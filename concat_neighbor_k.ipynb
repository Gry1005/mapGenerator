{
 "cells": [
  {
   "cell_type": "code",
   "execution_count": 1,
   "metadata": {
    "collapsed": false
   },
   "outputs": [
    {
     "name": "stdout",
     "output_type": "stream",
     "text": [
      "54865 images found in input directory\n"
     ]
    }
   ],
   "source": [
    "import sys\n",
    "import os\n",
    "import numpy as np\n",
    "from PIL import Image\n",
    "\n",
    "input_dir = '/home/zekun/Documents/Dornsife/SynthMaps/synthNoText/' # input directory \n",
    "output_dir = '/home/zekun/Documents/Dornsife/SynthMaps/concat_out/'\n",
    "take_n_imgs = -1 # generate n output image. if -1, then generate all\n",
    "image_size = 256\n",
    "neighbor_k = 3\n",
    "\n",
    "\n",
    "if not os.path.isdir(output_dir):\n",
    "    os.makedirs(output_dir)\n",
    "    \n",
    "all_imgs = os.listdir(input_dir)\n",
    "all_imgs.sort()\n",
    "print len(all_imgs),'images found in input directory'\n",
    "\n",
    "if take_n_imgs < 0:\n",
    "    take_n_imgs = len(all_imgs)"
   ]
  },
  {
   "cell_type": "code",
   "execution_count": 2,
   "metadata": {
    "collapsed": false
   },
   "outputs": [
    {
     "name": "stdout",
     "output_type": "stream",
     "text": [
      "border_x_min 32331\n",
      "border_x_max 32513\n",
      "border_y_min 21348\n",
      "border_y_max 21647\n"
     ]
    }
   ],
   "source": [
    "border_x_min = int(all_imgs[0].split('_')[1])\n",
    "border_x_max = int(all_imgs[-1].split('_')[1])\n",
    "border_y_min = int(all_imgs[0].split('_')[2])\n",
    "border_y_max = int(all_imgs[-1].split('_')[2])\n",
    "\n",
    "print 'border_x_min',border_x_min\n",
    "print 'border_x_max',border_x_max\n",
    "print 'border_y_min',border_y_min\n",
    "print 'border_y_max',border_y_max"
   ]
  },
  {
   "cell_type": "markdown",
   "metadata": {},
   "source": [
    "# construct flag array"
   ]
  },
  {
   "cell_type": "code",
   "execution_count": 3,
   "metadata": {
    "collapsed": false
   },
   "outputs": [],
   "source": [
    "\n",
    "Arr = np.zeros((border_x_max - border_x_min + 1, border_y_max - border_y_min + 1))\n",
    "\n",
    "for img_name in all_imgs:\n",
    "    idx_x = int(img_name.split('_')[1]) - border_x_min\n",
    "    idx_y = int(img_name.split('_')[2]) - border_y_min \n",
    "    \n",
    "    Arr[idx_x][idx_y] = 1\n",
    "    \n",
    "assert np.count_nonzero(Arr) == len(all_imgs)"
   ]
  },
  {
   "cell_type": "code",
   "execution_count": 4,
   "metadata": {
    "collapsed": false
   },
   "outputs": [],
   "source": [
    "\n",
    "def paste_img(start_idx, start_jdx, k): \n",
    "    '''provide starting index and concate range k'''\n",
    "    new_img = Image.new('RGB', (image_size * k, image_size * k))\n",
    "    for i in range(k):\n",
    "        for j in range(k):\n",
    "            #### specific format ####\n",
    "            im = Image.open(input_dir + 'out_'+ str(start_idx + i) + '_' + str(start_jdx+j) + '_16.jpg')\n",
    "            new_img.paste(im, (i * image_size,j * image_size ))\n",
    "    return new_img\n"
   ]
  },
  {
   "cell_type": "code",
   "execution_count": 5,
   "metadata": {
    "collapsed": false
   },
   "outputs": [],
   "source": [
    "# for those has neighboring k blocks, concatenate\n",
    "count = 0\n",
    "break_flag = False\n",
    "for idx in range(border_x_min, border_x_max + 1):\n",
    "    if break_flag:\n",
    "        break\n",
    "    for jdx in range(border_y_min, border_y_max + 1):\n",
    "        # check if all images exist to construct this patch\n",
    "        arr_idx = idx - border_x_min\n",
    "        arr_jdx = jdx - border_y_min\n",
    "        if np.count_nonzero(Arr[arr_idx:arr_idx+neighbor_k,arr_jdx:arr_jdx+neighbor_k]) != neighbor_k*neighbor_k:\n",
    "            continue\n",
    "        else:\n",
    "            new_img = paste_img(idx, jdx, neighbor_k)\n",
    "            new_img.save(output_dir + '/concat'+str(neighbor_k) + '_'+ str(idx) + '_' + str(jdx)+ '.jpg')\n",
    "            count += 1\n",
    "            if count >= take_n_imgs:\n",
    "                break_flag = True\n",
    "                break\n",
    "                \n"
   ]
  },
  {
   "cell_type": "code",
   "execution_count": null,
   "metadata": {
    "collapsed": true
   },
   "outputs": [],
   "source": []
  }
 ],
 "metadata": {
  "kernelspec": {
   "display_name": "Python 2",
   "language": "python",
   "name": "python2"
  },
  "language_info": {
   "codemirror_mode": {
    "name": "ipython",
    "version": 2
   },
   "file_extension": ".py",
   "mimetype": "text/x-python",
   "name": "python",
   "nbconvert_exporter": "python",
   "pygments_lexer": "ipython2",
   "version": "2.7.12"
  }
 },
 "nbformat": 4,
 "nbformat_minor": 2
}
